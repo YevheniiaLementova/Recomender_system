{
 "cells": [
  {
   "cell_type": "code",
   "execution_count": 382,
   "id": "f53d47a1-955d-4e32-8dc8-6c53aaddb13b",
   "metadata": {},
   "outputs": [],
   "source": [
    "import numpy as np\n",
    "import pandas as pd\n",
    "from sklearn.feature_extraction.text import TfidfVectorizer\n",
    "from sklearn.metrics.pairwise import cosine_similarity"
   ]
  },
  {
   "cell_type": "markdown",
   "id": "d6017a81-61db-4ad2-82d0-102624052a41",
   "metadata": {},
   "source": [
    "## Load dataset"
   ]
  },
  {
   "cell_type": "code",
   "execution_count": 384,
   "id": "a5e066a7-6524-4a75-a000-fa75f3955717",
   "metadata": {},
   "outputs": [],
   "source": [
    "df_film = pd.read_csv('cinemas.csv') "
   ]
  },
  {
   "cell_type": "markdown",
   "id": "29a0f69d-5c8e-4b4b-8b16-d2340b3e2ecb",
   "metadata": {},
   "source": [
    "## Check format"
   ]
  },
  {
   "cell_type": "code",
   "execution_count": 387,
   "id": "09c071da-314c-47ad-a331-3572ce240caa",
   "metadata": {},
   "outputs": [
    {
     "data": {
      "text/plain": [
       "Index(['Unnamed: 0', 'color', 'director_name', 'num_critic_for_reviews',\n",
       "       'duration', 'director_facebook_likes', 'actor_3_facebook_likes',\n",
       "       'actor_2_name', 'actor_1_facebook_likes', 'gross', 'genres',\n",
       "       'actor_1_name', 'movie_title', 'num_voted_users',\n",
       "       'cast_total_facebook_likes', 'actor_3_name', 'facenumber_in_poster',\n",
       "       'plot_keywords', 'movie_imdb_link', 'num_user_for_reviews', 'language',\n",
       "       'country', 'content_rating', 'budget', 'title_year',\n",
       "       'actor_2_facebook_likes', 'imdb_score', 'aspect_ratio',\n",
       "       'movie_facebook_likes', 'Unnamed: 28', 'war_symb_title',\n",
       "       'point_symb_title'],\n",
       "      dtype='object')"
      ]
     },
     "execution_count": 387,
     "metadata": {},
     "output_type": "execute_result"
    }
   ],
   "source": [
    "df_film.columns"
   ]
  },
  {
   "cell_type": "code",
   "execution_count": 389,
   "id": "96c5c10a-26a6-4010-8cea-b72e0a675f55",
   "metadata": {},
   "outputs": [],
   "source": [
    "df_recom_sys = df_film[['movie_title', 'plot_keywords', 'genres', 'director_name']].copy()"
   ]
  },
  {
   "cell_type": "code",
   "execution_count": 391,
   "id": "79bf8ec9-e86a-4704-9591-6a3164df7a61",
   "metadata": {},
   "outputs": [],
   "source": [
    "df_recom_sys.dropna(inplace = True)"
   ]
  },
  {
   "cell_type": "code",
   "execution_count": 393,
   "id": "08e7a85b-cc8d-43c6-9ea2-c783daad9acd",
   "metadata": {},
   "outputs": [
    {
     "data": {
      "text/html": [
       "<div>\n",
       "<style scoped>\n",
       "    .dataframe tbody tr th:only-of-type {\n",
       "        vertical-align: middle;\n",
       "    }\n",
       "\n",
       "    .dataframe tbody tr th {\n",
       "        vertical-align: top;\n",
       "    }\n",
       "\n",
       "    .dataframe thead th {\n",
       "        text-align: right;\n",
       "    }\n",
       "</style>\n",
       "<table border=\"1\" class=\"dataframe\">\n",
       "  <thead>\n",
       "    <tr style=\"text-align: right;\">\n",
       "      <th></th>\n",
       "      <th>movie_title</th>\n",
       "      <th>plot_keywords</th>\n",
       "      <th>genres</th>\n",
       "      <th>director_name</th>\n",
       "    </tr>\n",
       "  </thead>\n",
       "  <tbody>\n",
       "    <tr>\n",
       "      <th>0</th>\n",
       "      <td>Avatar</td>\n",
       "      <td>avatar|future|marine|native|paraplegic</td>\n",
       "      <td>Action|Adventure|Fantasy|Sci-Fi</td>\n",
       "      <td>James Cameron</td>\n",
       "    </tr>\n",
       "    <tr>\n",
       "      <th>1</th>\n",
       "      <td>Pirates of the Caribbean: At World's End</td>\n",
       "      <td>goddess|marriage ceremony|marriage proposal|pi...</td>\n",
       "      <td>Action|Adventure|Fantasy</td>\n",
       "      <td>Gore Verbinski</td>\n",
       "    </tr>\n",
       "    <tr>\n",
       "      <th>2</th>\n",
       "      <td>Spectre</td>\n",
       "      <td>bomb|espionage|sequel|spy|terrorist</td>\n",
       "      <td>Action|Adventure|Thriller</td>\n",
       "      <td>Sam Mendes</td>\n",
       "    </tr>\n",
       "    <tr>\n",
       "      <th>3</th>\n",
       "      <td>The Dark Knight Rises</td>\n",
       "      <td>deception|imprisonment|lawlessness|police offi...</td>\n",
       "      <td>Action|Thriller</td>\n",
       "      <td>Christopher Nolan</td>\n",
       "    </tr>\n",
       "    <tr>\n",
       "      <th>5</th>\n",
       "      <td>John Carter</td>\n",
       "      <td>alien|american civil war|male nipple|mars|prin...</td>\n",
       "      <td>Action|Adventure|Sci-Fi</td>\n",
       "      <td>Andrew Stanton</td>\n",
       "    </tr>\n",
       "    <tr>\n",
       "      <th>...</th>\n",
       "      <td>...</td>\n",
       "      <td>...</td>\n",
       "      <td>...</td>\n",
       "      <td>...</td>\n",
       "    </tr>\n",
       "    <tr>\n",
       "      <th>5042</th>\n",
       "      <td>El Mariachi</td>\n",
       "      <td>assassin|death|guitar|gun|mariachi</td>\n",
       "      <td>Action|Crime|Drama|Romance|Thriller</td>\n",
       "      <td>Robert Rodriguez</td>\n",
       "    </tr>\n",
       "    <tr>\n",
       "      <th>5043</th>\n",
       "      <td>The Mongol King</td>\n",
       "      <td>jewell|mongol|nostradamus|stepnicka|vallone</td>\n",
       "      <td>Crime|Drama</td>\n",
       "      <td>Anthony Vallone</td>\n",
       "    </tr>\n",
       "    <tr>\n",
       "      <th>5044</th>\n",
       "      <td>Newlyweds</td>\n",
       "      <td>written and directed by cast member</td>\n",
       "      <td>Comedy|Drama</td>\n",
       "      <td>Edward Burns</td>\n",
       "    </tr>\n",
       "    <tr>\n",
       "      <th>5045</th>\n",
       "      <td>Signed Sealed Delivered</td>\n",
       "      <td>fraud|postal worker|prison|theft|trial</td>\n",
       "      <td>Comedy|Drama</td>\n",
       "      <td>Scott Smith</td>\n",
       "    </tr>\n",
       "    <tr>\n",
       "      <th>5049</th>\n",
       "      <td>My Date with Drew</td>\n",
       "      <td>actress name in title|crush|date|four word tit...</td>\n",
       "      <td>Documentary</td>\n",
       "      <td>Jon Gunn</td>\n",
       "    </tr>\n",
       "  </tbody>\n",
       "</table>\n",
       "<p>4801 rows × 4 columns</p>\n",
       "</div>"
      ],
      "text/plain": [
       "                                    movie_title  \\\n",
       "0                                       Avatar    \n",
       "1     Pirates of the Caribbean: At World's End    \n",
       "2                                      Spectre    \n",
       "3                        The Dark Knight Rises    \n",
       "5                                  John Carter    \n",
       "...                                         ...   \n",
       "5042                               El Mariachi    \n",
       "5043                           The Mongol King    \n",
       "5044                                 Newlyweds    \n",
       "5045                   Signed Sealed Delivered    \n",
       "5049                         My Date with Drew    \n",
       "\n",
       "                                          plot_keywords  \\\n",
       "0                avatar|future|marine|native|paraplegic   \n",
       "1     goddess|marriage ceremony|marriage proposal|pi...   \n",
       "2                   bomb|espionage|sequel|spy|terrorist   \n",
       "3     deception|imprisonment|lawlessness|police offi...   \n",
       "5     alien|american civil war|male nipple|mars|prin...   \n",
       "...                                                 ...   \n",
       "5042                 assassin|death|guitar|gun|mariachi   \n",
       "5043        jewell|mongol|nostradamus|stepnicka|vallone   \n",
       "5044                written and directed by cast member   \n",
       "5045             fraud|postal worker|prison|theft|trial   \n",
       "5049  actress name in title|crush|date|four word tit...   \n",
       "\n",
       "                                   genres      director_name  \n",
       "0         Action|Adventure|Fantasy|Sci-Fi      James Cameron  \n",
       "1                Action|Adventure|Fantasy     Gore Verbinski  \n",
       "2               Action|Adventure|Thriller         Sam Mendes  \n",
       "3                         Action|Thriller  Christopher Nolan  \n",
       "5                 Action|Adventure|Sci-Fi     Andrew Stanton  \n",
       "...                                   ...                ...  \n",
       "5042  Action|Crime|Drama|Romance|Thriller   Robert Rodriguez  \n",
       "5043                          Crime|Drama    Anthony Vallone  \n",
       "5044                         Comedy|Drama       Edward Burns  \n",
       "5045                         Comedy|Drama        Scott Smith  \n",
       "5049                          Documentary           Jon Gunn  \n",
       "\n",
       "[4801 rows x 4 columns]"
      ]
     },
     "execution_count": 393,
     "metadata": {},
     "output_type": "execute_result"
    }
   ],
   "source": [
    "df_recom_sys"
   ]
  },
  {
   "cell_type": "code",
   "execution_count": 395,
   "id": "6efb145c-e487-4033-a9fa-3b10e91cf74e",
   "metadata": {},
   "outputs": [
    {
     "name": "stderr",
     "output_type": "stream",
     "text": [
      "/var/folders/z_/_pgpv17s1bxfby7zkyqwdq100000gp/T/ipykernel_4413/1688456297.py:1: FutureWarning: The default value of regex will change from True to False in a future version. In addition, single character regular expressions will *not* be treated as literal strings when regex=True.\n",
      "  df_recom_sys['plot_keywords'] = df_recom_sys['plot_keywords'].str.replace('|', ' ')\n"
     ]
    }
   ],
   "source": [
    "df_recom_sys['plot_keywords'] = df_recom_sys['plot_keywords'].str.replace('|', ' ')"
   ]
  },
  {
   "cell_type": "code",
   "execution_count": 397,
   "id": "b3584004-8b5c-43db-b9de-368c370a0f28",
   "metadata": {},
   "outputs": [
    {
     "data": {
      "text/html": [
       "<div>\n",
       "<style scoped>\n",
       "    .dataframe tbody tr th:only-of-type {\n",
       "        vertical-align: middle;\n",
       "    }\n",
       "\n",
       "    .dataframe tbody tr th {\n",
       "        vertical-align: top;\n",
       "    }\n",
       "\n",
       "    .dataframe thead th {\n",
       "        text-align: right;\n",
       "    }\n",
       "</style>\n",
       "<table border=\"1\" class=\"dataframe\">\n",
       "  <thead>\n",
       "    <tr style=\"text-align: right;\">\n",
       "      <th></th>\n",
       "      <th>movie_title</th>\n",
       "      <th>plot_keywords</th>\n",
       "      <th>genres</th>\n",
       "      <th>director_name</th>\n",
       "    </tr>\n",
       "  </thead>\n",
       "  <tbody>\n",
       "    <tr>\n",
       "      <th>0</th>\n",
       "      <td>Avatar</td>\n",
       "      <td>avatar future marine native paraplegic</td>\n",
       "      <td>Action|Adventure|Fantasy|Sci-Fi</td>\n",
       "      <td>James Cameron</td>\n",
       "    </tr>\n",
       "    <tr>\n",
       "      <th>1</th>\n",
       "      <td>Pirates of the Caribbean: At World's End</td>\n",
       "      <td>goddess marriage ceremony marriage proposal pi...</td>\n",
       "      <td>Action|Adventure|Fantasy</td>\n",
       "      <td>Gore Verbinski</td>\n",
       "    </tr>\n",
       "    <tr>\n",
       "      <th>2</th>\n",
       "      <td>Spectre</td>\n",
       "      <td>bomb espionage sequel spy terrorist</td>\n",
       "      <td>Action|Adventure|Thriller</td>\n",
       "      <td>Sam Mendes</td>\n",
       "    </tr>\n",
       "    <tr>\n",
       "      <th>3</th>\n",
       "      <td>The Dark Knight Rises</td>\n",
       "      <td>deception imprisonment lawlessness police offi...</td>\n",
       "      <td>Action|Thriller</td>\n",
       "      <td>Christopher Nolan</td>\n",
       "    </tr>\n",
       "    <tr>\n",
       "      <th>5</th>\n",
       "      <td>John Carter</td>\n",
       "      <td>alien american civil war male nipple mars prin...</td>\n",
       "      <td>Action|Adventure|Sci-Fi</td>\n",
       "      <td>Andrew Stanton</td>\n",
       "    </tr>\n",
       "    <tr>\n",
       "      <th>...</th>\n",
       "      <td>...</td>\n",
       "      <td>...</td>\n",
       "      <td>...</td>\n",
       "      <td>...</td>\n",
       "    </tr>\n",
       "    <tr>\n",
       "      <th>5042</th>\n",
       "      <td>El Mariachi</td>\n",
       "      <td>assassin death guitar gun mariachi</td>\n",
       "      <td>Action|Crime|Drama|Romance|Thriller</td>\n",
       "      <td>Robert Rodriguez</td>\n",
       "    </tr>\n",
       "    <tr>\n",
       "      <th>5043</th>\n",
       "      <td>The Mongol King</td>\n",
       "      <td>jewell mongol nostradamus stepnicka vallone</td>\n",
       "      <td>Crime|Drama</td>\n",
       "      <td>Anthony Vallone</td>\n",
       "    </tr>\n",
       "    <tr>\n",
       "      <th>5044</th>\n",
       "      <td>Newlyweds</td>\n",
       "      <td>written and directed by cast member</td>\n",
       "      <td>Comedy|Drama</td>\n",
       "      <td>Edward Burns</td>\n",
       "    </tr>\n",
       "    <tr>\n",
       "      <th>5045</th>\n",
       "      <td>Signed Sealed Delivered</td>\n",
       "      <td>fraud postal worker prison theft trial</td>\n",
       "      <td>Comedy|Drama</td>\n",
       "      <td>Scott Smith</td>\n",
       "    </tr>\n",
       "    <tr>\n",
       "      <th>5049</th>\n",
       "      <td>My Date with Drew</td>\n",
       "      <td>actress name in title crush date four word tit...</td>\n",
       "      <td>Documentary</td>\n",
       "      <td>Jon Gunn</td>\n",
       "    </tr>\n",
       "  </tbody>\n",
       "</table>\n",
       "<p>4801 rows × 4 columns</p>\n",
       "</div>"
      ],
      "text/plain": [
       "                                    movie_title  \\\n",
       "0                                       Avatar    \n",
       "1     Pirates of the Caribbean: At World's End    \n",
       "2                                      Spectre    \n",
       "3                        The Dark Knight Rises    \n",
       "5                                  John Carter    \n",
       "...                                         ...   \n",
       "5042                               El Mariachi    \n",
       "5043                           The Mongol King    \n",
       "5044                                 Newlyweds    \n",
       "5045                   Signed Sealed Delivered    \n",
       "5049                         My Date with Drew    \n",
       "\n",
       "                                          plot_keywords  \\\n",
       "0                avatar future marine native paraplegic   \n",
       "1     goddess marriage ceremony marriage proposal pi...   \n",
       "2                   bomb espionage sequel spy terrorist   \n",
       "3     deception imprisonment lawlessness police offi...   \n",
       "5     alien american civil war male nipple mars prin...   \n",
       "...                                                 ...   \n",
       "5042                 assassin death guitar gun mariachi   \n",
       "5043        jewell mongol nostradamus stepnicka vallone   \n",
       "5044                written and directed by cast member   \n",
       "5045             fraud postal worker prison theft trial   \n",
       "5049  actress name in title crush date four word tit...   \n",
       "\n",
       "                                   genres      director_name  \n",
       "0         Action|Adventure|Fantasy|Sci-Fi      James Cameron  \n",
       "1                Action|Adventure|Fantasy     Gore Verbinski  \n",
       "2               Action|Adventure|Thriller         Sam Mendes  \n",
       "3                         Action|Thriller  Christopher Nolan  \n",
       "5                 Action|Adventure|Sci-Fi     Andrew Stanton  \n",
       "...                                   ...                ...  \n",
       "5042  Action|Crime|Drama|Romance|Thriller   Robert Rodriguez  \n",
       "5043                          Crime|Drama    Anthony Vallone  \n",
       "5044                         Comedy|Drama       Edward Burns  \n",
       "5045                         Comedy|Drama        Scott Smith  \n",
       "5049                          Documentary           Jon Gunn  \n",
       "\n",
       "[4801 rows x 4 columns]"
      ]
     },
     "execution_count": 397,
     "metadata": {},
     "output_type": "execute_result"
    }
   ],
   "source": [
    "df_recom_sys"
   ]
  },
  {
   "cell_type": "code",
   "execution_count": 399,
   "id": "2f970d5f-d80e-483a-b82a-d07616d1a5dc",
   "metadata": {},
   "outputs": [
    {
     "name": "stderr",
     "output_type": "stream",
     "text": [
      "/var/folders/z_/_pgpv17s1bxfby7zkyqwdq100000gp/T/ipykernel_4413/3312071070.py:1: FutureWarning: The default value of regex will change from True to False in a future version. In addition, single character regular expressions will *not* be treated as literal strings when regex=True.\n",
      "  df_recom_sys['genres'] = df_recom_sys['genres'].str.replace('|', ' ')\n"
     ]
    }
   ],
   "source": [
    "df_recom_sys['genres'] = df_recom_sys['genres'].str.replace('|', ' ')"
   ]
  },
  {
   "cell_type": "code",
   "execution_count": 401,
   "id": "57262360-895a-451c-aec5-606baa6eff92",
   "metadata": {},
   "outputs": [
    {
     "data": {
      "text/plain": [
       "array(['Avatar\\xa0', \"Pirates of the Caribbean: At World's End\\xa0\",\n",
       "       'Spectre\\xa0', ..., 'Newlyweds\\xa0', 'Signed Sealed Delivered\\xa0',\n",
       "       'My Date with Drew\\xa0'], dtype=object)"
      ]
     },
     "execution_count": 401,
     "metadata": {},
     "output_type": "execute_result"
    }
   ],
   "source": [
    "df_recom_sys['movie_title'].unique()"
   ]
  },
  {
   "cell_type": "code",
   "execution_count": 403,
   "id": "b088ac3c-1f1b-4534-b32b-f52c2103c0f7",
   "metadata": {},
   "outputs": [],
   "source": [
    "df_recom_sys['movie_title'] = df_recom_sys['movie_title'].str.replace('\\xa0', '')"
   ]
  },
  {
   "cell_type": "code",
   "execution_count": 405,
   "id": "5e0c2d27-f62e-48ca-84d2-128010bb0474",
   "metadata": {},
   "outputs": [
    {
     "data": {
      "text/plain": [
       "array(['Avatar', \"Pirates of the Caribbean: At World's End\", 'Spectre',\n",
       "       ..., 'Newlyweds', 'Signed Sealed Delivered', 'My Date with Drew'],\n",
       "      dtype=object)"
      ]
     },
     "execution_count": 405,
     "metadata": {},
     "output_type": "execute_result"
    }
   ],
   "source": [
    "df_recom_sys['movie_title'].unique()"
   ]
  },
  {
   "cell_type": "code",
   "execution_count": 407,
   "id": "607b4b80-d4fa-4f70-956c-bda0c31310e4",
   "metadata": {},
   "outputs": [
    {
     "data": {
      "text/plain": [
       "(4801, 4)"
      ]
     },
     "execution_count": 407,
     "metadata": {},
     "output_type": "execute_result"
    }
   ],
   "source": [
    "df_recom_sys.shape"
   ]
  },
  {
   "cell_type": "code",
   "execution_count": 409,
   "id": "e3a43e67-98dd-47d2-ad46-b6a3cfb470e7",
   "metadata": {},
   "outputs": [],
   "source": [
    "df_recom_sys.drop_duplicates(subset = ['movie_title'],inplace = True)"
   ]
  },
  {
   "cell_type": "code",
   "execution_count": 411,
   "id": "5cf95cf6-6eed-4a29-91ca-60b5109049d3",
   "metadata": {},
   "outputs": [
    {
     "data": {
      "text/html": [
       "<div>\n",
       "<style scoped>\n",
       "    .dataframe tbody tr th:only-of-type {\n",
       "        vertical-align: middle;\n",
       "    }\n",
       "\n",
       "    .dataframe tbody tr th {\n",
       "        vertical-align: top;\n",
       "    }\n",
       "\n",
       "    .dataframe thead th {\n",
       "        text-align: right;\n",
       "    }\n",
       "</style>\n",
       "<table border=\"1\" class=\"dataframe\">\n",
       "  <thead>\n",
       "    <tr style=\"text-align: right;\">\n",
       "      <th></th>\n",
       "      <th>movie_title</th>\n",
       "      <th>plot_keywords</th>\n",
       "      <th>genres</th>\n",
       "      <th>director_name</th>\n",
       "    </tr>\n",
       "  </thead>\n",
       "  <tbody>\n",
       "    <tr>\n",
       "      <th>0</th>\n",
       "      <td>Avatar</td>\n",
       "      <td>avatar future marine native paraplegic</td>\n",
       "      <td>Action Adventure Fantasy Sci-Fi</td>\n",
       "      <td>James Cameron</td>\n",
       "    </tr>\n",
       "    <tr>\n",
       "      <th>1</th>\n",
       "      <td>Pirates of the Caribbean: At World's End</td>\n",
       "      <td>goddess marriage ceremony marriage proposal pi...</td>\n",
       "      <td>Action Adventure Fantasy</td>\n",
       "      <td>Gore Verbinski</td>\n",
       "    </tr>\n",
       "    <tr>\n",
       "      <th>2</th>\n",
       "      <td>Spectre</td>\n",
       "      <td>bomb espionage sequel spy terrorist</td>\n",
       "      <td>Action Adventure Thriller</td>\n",
       "      <td>Sam Mendes</td>\n",
       "    </tr>\n",
       "    <tr>\n",
       "      <th>3</th>\n",
       "      <td>The Dark Knight Rises</td>\n",
       "      <td>deception imprisonment lawlessness police offi...</td>\n",
       "      <td>Action Thriller</td>\n",
       "      <td>Christopher Nolan</td>\n",
       "    </tr>\n",
       "    <tr>\n",
       "      <th>5</th>\n",
       "      <td>John Carter</td>\n",
       "      <td>alien american civil war male nipple mars prin...</td>\n",
       "      <td>Action Adventure Sci-Fi</td>\n",
       "      <td>Andrew Stanton</td>\n",
       "    </tr>\n",
       "    <tr>\n",
       "      <th>...</th>\n",
       "      <td>...</td>\n",
       "      <td>...</td>\n",
       "      <td>...</td>\n",
       "      <td>...</td>\n",
       "    </tr>\n",
       "    <tr>\n",
       "      <th>5042</th>\n",
       "      <td>El Mariachi</td>\n",
       "      <td>assassin death guitar gun mariachi</td>\n",
       "      <td>Action Crime Drama Romance Thriller</td>\n",
       "      <td>Robert Rodriguez</td>\n",
       "    </tr>\n",
       "    <tr>\n",
       "      <th>5043</th>\n",
       "      <td>The Mongol King</td>\n",
       "      <td>jewell mongol nostradamus stepnicka vallone</td>\n",
       "      <td>Crime Drama</td>\n",
       "      <td>Anthony Vallone</td>\n",
       "    </tr>\n",
       "    <tr>\n",
       "      <th>5044</th>\n",
       "      <td>Newlyweds</td>\n",
       "      <td>written and directed by cast member</td>\n",
       "      <td>Comedy Drama</td>\n",
       "      <td>Edward Burns</td>\n",
       "    </tr>\n",
       "    <tr>\n",
       "      <th>5045</th>\n",
       "      <td>Signed Sealed Delivered</td>\n",
       "      <td>fraud postal worker prison theft trial</td>\n",
       "      <td>Comedy Drama</td>\n",
       "      <td>Scott Smith</td>\n",
       "    </tr>\n",
       "    <tr>\n",
       "      <th>5049</th>\n",
       "      <td>My Date with Drew</td>\n",
       "      <td>actress name in title crush date four word tit...</td>\n",
       "      <td>Documentary</td>\n",
       "      <td>Jon Gunn</td>\n",
       "    </tr>\n",
       "  </tbody>\n",
       "</table>\n",
       "<p>4674 rows × 4 columns</p>\n",
       "</div>"
      ],
      "text/plain": [
       "                                   movie_title  \\\n",
       "0                                       Avatar   \n",
       "1     Pirates of the Caribbean: At World's End   \n",
       "2                                      Spectre   \n",
       "3                        The Dark Knight Rises   \n",
       "5                                  John Carter   \n",
       "...                                        ...   \n",
       "5042                               El Mariachi   \n",
       "5043                           The Mongol King   \n",
       "5044                                 Newlyweds   \n",
       "5045                   Signed Sealed Delivered   \n",
       "5049                         My Date with Drew   \n",
       "\n",
       "                                          plot_keywords  \\\n",
       "0                avatar future marine native paraplegic   \n",
       "1     goddess marriage ceremony marriage proposal pi...   \n",
       "2                   bomb espionage sequel spy terrorist   \n",
       "3     deception imprisonment lawlessness police offi...   \n",
       "5     alien american civil war male nipple mars prin...   \n",
       "...                                                 ...   \n",
       "5042                 assassin death guitar gun mariachi   \n",
       "5043        jewell mongol nostradamus stepnicka vallone   \n",
       "5044                written and directed by cast member   \n",
       "5045             fraud postal worker prison theft trial   \n",
       "5049  actress name in title crush date four word tit...   \n",
       "\n",
       "                                   genres      director_name  \n",
       "0         Action Adventure Fantasy Sci-Fi      James Cameron  \n",
       "1                Action Adventure Fantasy     Gore Verbinski  \n",
       "2               Action Adventure Thriller         Sam Mendes  \n",
       "3                         Action Thriller  Christopher Nolan  \n",
       "5                 Action Adventure Sci-Fi     Andrew Stanton  \n",
       "...                                   ...                ...  \n",
       "5042  Action Crime Drama Romance Thriller   Robert Rodriguez  \n",
       "5043                          Crime Drama    Anthony Vallone  \n",
       "5044                         Comedy Drama       Edward Burns  \n",
       "5045                         Comedy Drama        Scott Smith  \n",
       "5049                          Documentary           Jon Gunn  \n",
       "\n",
       "[4674 rows x 4 columns]"
      ]
     },
     "execution_count": 411,
     "metadata": {},
     "output_type": "execute_result"
    }
   ],
   "source": [
    "df_recom_sys"
   ]
  },
  {
   "cell_type": "code",
   "execution_count": 413,
   "id": "f6840690-48be-4baf-b9cd-ccd80827d150",
   "metadata": {},
   "outputs": [],
   "source": [
    "df_recom_sys['combined_info'] = (df_recom_sys['plot_keywords'] + ' ' + df_recom_sys['movie_title'].str.replace(':', '').str.replace('-', ' ')+ ' '+df_recom_sys['genres'] +' '+ df_recom_sys['director_name']).str.lower()"
   ]
  },
  {
   "cell_type": "code",
   "execution_count": 415,
   "id": "5a0538f7-2310-4190-abd1-eb1f3595ae52",
   "metadata": {},
   "outputs": [],
   "source": [
    "stopwords = r'\\b(?:a|an|the|in|on|at|by|for|with|about|against|between|into|through|during|before|after|above|below|to|from|up|down|over|under|again|further|then|once)\\b'\n",
    "df_recom_sys['combined_info'] = df_recom_sys['combined_info'].str.replace(stopwords, '', regex=True)\n",
    "df_recom_sys['combined_info'] = df_recom_sys['combined_info'].str.replace(r'\\s+', ' ', regex=True).str.strip()"
   ]
  },
  {
   "cell_type": "code",
   "execution_count": 417,
   "id": "88f422e9-c096-43cd-8768-85f49f399d53",
   "metadata": {},
   "outputs": [
    {
     "data": {
      "text/plain": [
       "0       avatar future marine native paraplegic avatar ...\n",
       "1       goddess marriage ceremony marriage proposal pi...\n",
       "2       bomb espionage sequel spy terrorist spectre ac...\n",
       "3       deception imprisonment lawlessness police offi...\n",
       "5       alien american civil war male nipple mars prin...\n",
       "                              ...                        \n",
       "5042    assassin death guitar gun mariachi el mariachi...\n",
       "5043    jewell mongol nostradamus stepnicka vallone mo...\n",
       "5044    written and directed cast member newlyweds com...\n",
       "5045    fraud postal worker prison theft trial signed ...\n",
       "5049    actress name title crush date four word title ...\n",
       "Name: combined_info, Length: 4674, dtype: object"
      ]
     },
     "execution_count": 417,
     "metadata": {},
     "output_type": "execute_result"
    }
   ],
   "source": [
    "df_recom_sys['combined_info']"
   ]
  },
  {
   "cell_type": "markdown",
   "id": "0c0f7269-68f7-46fa-90a9-0ed4502c5d22",
   "metadata": {},
   "source": [
    "## rec sys (TfidfVectorizer + cosine_similarity)"
   ]
  },
  {
   "cell_type": "code",
   "execution_count": 420,
   "id": "29471d29-2691-4f9d-a222-d31f62a6f8eb",
   "metadata": {},
   "outputs": [],
   "source": [
    "tfidf = TfidfVectorizer(ngram_range=(1, 2))"
   ]
  },
  {
   "cell_type": "code",
   "execution_count": 422,
   "id": "ae077e9f-ec46-4e0a-b904-075e1b6cb638",
   "metadata": {},
   "outputs": [],
   "source": [
    "tfidf_matrix = tfidf.fit_transform(df_recom_sys['combined_info'])"
   ]
  },
  {
   "cell_type": "code",
   "execution_count": 424,
   "id": "3cc3329f-fea8-4513-a3ca-9f285fec5b08",
   "metadata": {},
   "outputs": [],
   "source": [
    "cosine_sim = cosine_similarity(tfidf_matrix, tfidf_matrix)"
   ]
  },
  {
   "cell_type": "code",
   "execution_count": 425,
   "id": "7b4f6f9b-6780-45bc-826c-cbf333157a13",
   "metadata": {},
   "outputs": [],
   "source": [
    "def get_recommendation(df, title, simil):\n",
    "    idx = df[df['movie_title'] == title].index[0]\n",
    "    sim_scores = list(enumerate(simil[idx]))\n",
    "    sim_scores = sorted(sim_scores, key=lambda x: x[1], reverse=True)\n",
    "    sim_scores = sim_scores[1:11]\n",
    "    movie_indices = [i[0] for i in sim_scores]\n",
    "    return df['movie_title'].iloc[movie_indices]"
   ]
  },
  {
   "cell_type": "code",
   "execution_count": 428,
   "id": "5ff4f496-3424-4d5b-b0b7-d78833514d2e",
   "metadata": {},
   "outputs": [
    {
     "data": {
      "text/plain": [
       "2487                        Aliens\n",
       "3576                The Terminator\n",
       "288     Terminator 2: Judgment Day\n",
       "140             The Last Airbender\n",
       "606                      The Abyss\n",
       "4691                       Destiny\n",
       "1702         Dragonball: Evolution\n",
       "5027                    The Ridges\n",
       "26                         Titanic\n",
       "210                        X-Men 2\n",
       "Name: movie_title, dtype: object"
      ]
     },
     "execution_count": 428,
     "metadata": {},
     "output_type": "execute_result"
    }
   ],
   "source": [
    "get_recommendation(df_recom_sys, 'Avatar', cosine_sim)"
   ]
  }
 ],
 "metadata": {
  "kernelspec": {
   "display_name": "Python 3 (ipykernel)",
   "language": "python",
   "name": "python3"
  },
  "language_info": {
   "codemirror_mode": {
    "name": "ipython",
    "version": 3
   },
   "file_extension": ".py",
   "mimetype": "text/x-python",
   "name": "python",
   "nbconvert_exporter": "python",
   "pygments_lexer": "ipython3",
   "version": "3.11.7"
  }
 },
 "nbformat": 4,
 "nbformat_minor": 5
}
